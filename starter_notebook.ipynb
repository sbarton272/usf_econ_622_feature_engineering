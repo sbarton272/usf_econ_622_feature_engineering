{
 "cells": [
  {
   "cell_type": "markdown",
   "metadata": {},
   "source": [
    "# A Lesson on Feature Engineering\n",
    "\n",
    "Hello! Welcome to a guest lesson from Spencer. Spencer is a software engineer who works with data and machine learning models at [Picnic Health](https://picnichealth.com/).\n",
    "\n",
    "Today's lesson will be on feature engineering. You'll spend the class diving into some example data, developing features and building a model. We'll also learn a bit about working with text.\n",
    "\n",
    "You'll work individually but will check in with other periodically to compare ideas.\n",
    "\n",
    "## Setup\n",
    "\n",
    "You're already running this notebook in Colab so good job! Now run the below cells to import packages and load data.\n",
    "\n",
    "## The Data\n",
    "\n",
    "I've pulled data from the Airbnb monitoring project. [You can find the raw data here](http://insideairbnb.com/get-the-data.html) and [an interesting data visualization here](http://insideairbnb.com/new-york-city/).\n",
    "\n",
    "## The Goal\n",
    "\n",
    "The plan today is to build a classification model that predicts a listing's price.\n",
    "\n",
    "## The Plan\n",
    "\n",
    "- 30 minutes on data exploration\n",
    "- 10 minutes of discussion\n",
    "- 45 minutes on feature engineering\n",
    "- 10 minutes of discussion\n",
    "- 15 minutes on modeling\n",
    "- 10 minutes of discussion\n",
    "- 30 minutes to iterate on your work\n",
    "\n",
    "Total: 2.5 hours"
   ]
  },
  {
   "cell_type": "code",
   "execution_count": 8,
   "metadata": {},
   "outputs": [],
   "source": [
    "import pandas as pd\n",
    "import matplotlib.pyplot as plt\n",
    "import seaborn as sns"
   ]
  },
  {
   "cell_type": "code",
   "execution_count": 9,
   "metadata": {},
   "outputs": [],
   "source": [
    "prices = pd.read_csv('https://raw.githubusercontent.com/sbarton272/usf_econ_622_feature_engineering/master/derived_data/prices.csv.zip',\n",
    "                     index_col='id')"
   ]
  },
  {
   "cell_type": "code",
   "execution_count": 10,
   "metadata": {},
   "outputs": [],
   "source": [
    "listings = pd.read_csv('https://raw.githubusercontent.com/sbarton272/usf_econ_622_feature_engineering/master/derived_data/listings.csv.zip',\n",
    "                       index_col='id')"
   ]
  },
  {
   "cell_type": "markdown",
   "metadata": {},
   "source": [
    "---\n",
    "\n",
    "## Data Exploration\n",
    "\n",
    "You're now going to take some time to explore the data.\n",
    "\n",
    "### The Plan\n",
    "\n",
    "- Spend 10 minutes starting to look at the data\n",
    "- Spend 10 minutes to check-in with your classmates to hear about what they have discovered\n",
    "- Spend 10 minutes looking at the data a bit more and thinking about issues you'll face\n",
    "\n",
    "Remember you're trying to predict is a listing has a `high_price`.\n",
    "\n",
    "Consider these questions\n",
    "- Which columns do you think will best predict `high_price`?\n",
    "- Are there columns with data that needs to be converted to a better format?\n",
    "- How many listings are there per host?\n",
    "- What should you do about null values?\n",
    "\n",
    "### The Datatables\n",
    "\n",
    "You have two csvs imported into pandas dataframes at this point.\n",
    "\n",
    "**`price`**\n",
    "\n",
    "This is a table indexed with listing `id` and containing two columns:\n",
    "\n",
    "- `price` is the price per day of stay in USD of the list \n",
    "- `high_price` is true for listings where the price is above the median of $100\n",
    "\n",
    "**`listings`**\n",
    "\n",
    "This table contains a bunch of data. The `id` column can be used to join between this table and the `price` table.\n",
    "\n",
    "This table has a bunch of interesting challenges. Some starter code is provided to get you going."
   ]
  },
  {
   "cell_type": "code",
   "execution_count": 11,
   "metadata": {},
   "outputs": [
    {
     "data": {
      "text/plain": [
       "(50378, 2)"
      ]
     },
     "execution_count": 11,
     "metadata": {},
     "output_type": "execute_result"
    }
   ],
   "source": [
    "prices.shape"
   ]
  },
  {
   "cell_type": "code",
   "execution_count": 12,
   "metadata": {},
   "outputs": [
    {
     "data": {
      "text/html": [
       "<div>\n",
       "<style scoped>\n",
       "    .dataframe tbody tr th:only-of-type {\n",
       "        vertical-align: middle;\n",
       "    }\n",
       "\n",
       "    .dataframe tbody tr th {\n",
       "        vertical-align: top;\n",
       "    }\n",
       "\n",
       "    .dataframe thead th {\n",
       "        text-align: right;\n",
       "    }\n",
       "</style>\n",
       "<table border=\"1\" class=\"dataframe\">\n",
       "  <thead>\n",
       "    <tr style=\"text-align: right;\">\n",
       "      <th></th>\n",
       "      <th>price ($)</th>\n",
       "      <th>high_price</th>\n",
       "    </tr>\n",
       "    <tr>\n",
       "      <th>id</th>\n",
       "      <th></th>\n",
       "      <th></th>\n",
       "    </tr>\n",
       "  </thead>\n",
       "  <tbody>\n",
       "    <tr>\n",
       "      <th>2060</th>\n",
       "      <td>100.0</td>\n",
       "      <td>False</td>\n",
       "    </tr>\n",
       "    <tr>\n",
       "      <th>2595</th>\n",
       "      <td>225.0</td>\n",
       "      <td>True</td>\n",
       "    </tr>\n",
       "    <tr>\n",
       "      <th>3831</th>\n",
       "      <td>89.0</td>\n",
       "      <td>False</td>\n",
       "    </tr>\n",
       "    <tr>\n",
       "      <th>5099</th>\n",
       "      <td>200.0</td>\n",
       "      <td>True</td>\n",
       "    </tr>\n",
       "    <tr>\n",
       "      <th>5121</th>\n",
       "      <td>60.0</td>\n",
       "      <td>False</td>\n",
       "    </tr>\n",
       "  </tbody>\n",
       "</table>\n",
       "</div>"
      ],
      "text/plain": [
       "      price ($)  high_price\n",
       "id                         \n",
       "2060      100.0       False\n",
       "2595      225.0        True\n",
       "3831       89.0       False\n",
       "5099      200.0        True\n",
       "5121       60.0       False"
      ]
     },
     "execution_count": 12,
     "metadata": {},
     "output_type": "execute_result"
    }
   ],
   "source": [
    "prices.head()"
   ]
  },
  {
   "cell_type": "code",
   "execution_count": 13,
   "metadata": {},
   "outputs": [
    {
     "data": {
      "text/plain": [
       "(50378, 80)"
      ]
     },
     "execution_count": 13,
     "metadata": {},
     "output_type": "execute_result"
    }
   ],
   "source": [
    "listings.shape"
   ]
  },
  {
   "cell_type": "code",
   "execution_count": 14,
   "metadata": {},
   "outputs": [
    {
     "name": "stdout",
     "output_type": "stream",
     "text": [
      "<class 'pandas.core.frame.DataFrame'>\n",
      "Int64Index: 50378 entries, 2060 to 43138585\n",
      "Data columns (total 80 columns):\n",
      " #   Column                                        Non-Null Count  Dtype  \n",
      "---  ------                                        --------------  -----  \n",
      " 0   name                                          50361 non-null  object \n",
      " 1   summary                                       47877 non-null  object \n",
      " 2   description                                   49097 non-null  object \n",
      " 3   experiences_offered                           50378 non-null  object \n",
      " 4   host_id                                       50378 non-null  int64  \n",
      " 5   host_name                                     50370 non-null  object \n",
      " 6   host_since                                    50370 non-null  object \n",
      " 7   host_location                                 50225 non-null  object \n",
      " 8   host_response_time                            29687 non-null  object \n",
      " 9   host_response_rate                            29687 non-null  object \n",
      " 10  host_acceptance_rate                          36047 non-null  object \n",
      " 11  host_is_superhost                             50370 non-null  object \n",
      " 12  host_neighbourhood                            42946 non-null  object \n",
      " 13  host_listings_count                           50370 non-null  float64\n",
      " 14  host_total_listings_count                     50370 non-null  float64\n",
      " 15  host_verifications                            50378 non-null  object \n",
      " 16  host_has_profile_pic                          50370 non-null  object \n",
      " 17  host_identity_verified                        50370 non-null  object \n",
      " 18  street                                        50378 non-null  object \n",
      " 19  neighbourhood                                 50365 non-null  object \n",
      " 20  neighbourhood_cleansed                        50378 non-null  object \n",
      " 21  neighbourhood_group_cleansed                  50378 non-null  object \n",
      " 22  city                                          50230 non-null  object \n",
      " 23  state                                         50372 non-null  object \n",
      " 24  zipcode                                       49938 non-null  object \n",
      " 25  market                                        50282 non-null  object \n",
      " 26  smart_location                                50378 non-null  object \n",
      " 27  country_code                                  50378 non-null  object \n",
      " 28  country                                       50378 non-null  object \n",
      " 29  latitude                                      50378 non-null  float64\n",
      " 30  longitude                                     50378 non-null  float64\n",
      " 31  is_location_exact                             50378 non-null  object \n",
      " 32  property_type                                 50378 non-null  object \n",
      " 33  room_type                                     50378 non-null  object \n",
      " 34  accommodates                                  50378 non-null  int64  \n",
      " 35  bathrooms                                     50319 non-null  float64\n",
      " 36  bedrooms                                      50281 non-null  float64\n",
      " 37  beds                                          49858 non-null  float64\n",
      " 38  bed_type                                      50378 non-null  object \n",
      " 39  amenities                                     50378 non-null  object \n",
      " 40  square_feet                                   395 non-null    float64\n",
      " 41  cleaning_fee                                  39704 non-null  object \n",
      " 42  guests_included                               50378 non-null  int64  \n",
      " 43  extra_people                                  50378 non-null  object \n",
      " 44  minimum_nights                                50378 non-null  int64  \n",
      " 45  maximum_nights                                50378 non-null  int64  \n",
      " 46  minimum_minimum_nights                        50378 non-null  int64  \n",
      " 47  maximum_minimum_nights                        50378 non-null  int64  \n",
      " 48  minimum_maximum_nights                        50378 non-null  int64  \n",
      " 49  maximum_maximum_nights                        50378 non-null  int64  \n",
      " 50  minimum_nights_avg_ntm                        50378 non-null  float64\n",
      " 51  maximum_nights_avg_ntm                        50378 non-null  float64\n",
      " 52  calendar_updated                              50378 non-null  object \n",
      " 53  has_availability                              50378 non-null  object \n",
      " 54  availability_30                               50378 non-null  int64  \n",
      " 55  availability_60                               50378 non-null  int64  \n",
      " 56  availability_90                               50378 non-null  int64  \n",
      " 57  availability_365                              50378 non-null  int64  \n",
      " 58  number_of_reviews                             50378 non-null  int64  \n",
      " 59  number_of_reviews_ltm                         50378 non-null  int64  \n",
      " 60  first_review                                  39674 non-null  object \n",
      " 61  last_review                                   39675 non-null  object \n",
      " 62  review_scores_rating                          38697 non-null  float64\n",
      " 63  review_scores_accuracy                        38663 non-null  float64\n",
      " 64  review_scores_cleanliness                     38677 non-null  float64\n",
      " 65  review_scores_checkin                         38650 non-null  float64\n",
      " 66  review_scores_communication                   38665 non-null  float64\n",
      " 67  review_scores_location                        38647 non-null  float64\n",
      " 68  review_scores_value                           38646 non-null  float64\n",
      " 69  requires_license                              50378 non-null  object \n",
      " 70  instant_bookable                              50378 non-null  object \n",
      " 71  is_business_travel_ready                      50378 non-null  object \n",
      " 72  cancellation_policy                           50378 non-null  object \n",
      " 73  require_guest_profile_picture                 50378 non-null  object \n",
      " 74  require_guest_phone_verification              50378 non-null  object \n",
      " 75  calculated_host_listings_count                50378 non-null  int64  \n",
      " 76  calculated_host_listings_count_entire_homes   50378 non-null  int64  \n",
      " 77  calculated_host_listings_count_private_rooms  50378 non-null  int64  \n",
      " 78  calculated_host_listings_count_shared_rooms   50378 non-null  int64  \n",
      " 79  reviews_per_month                             39674 non-null  float64\n",
      "dtypes: float64(18), int64(19), object(43)\n",
      "memory usage: 31.1+ MB\n"
     ]
    }
   ],
   "source": [
    "listings.info()"
   ]
  },
  {
   "cell_type": "code",
   "execution_count": 15,
   "metadata": {},
   "outputs": [
    {
     "data": {
      "text/html": [
       "<div>\n",
       "<style scoped>\n",
       "    .dataframe tbody tr th:only-of-type {\n",
       "        vertical-align: middle;\n",
       "    }\n",
       "\n",
       "    .dataframe tbody tr th {\n",
       "        vertical-align: top;\n",
       "    }\n",
       "\n",
       "    .dataframe thead th {\n",
       "        text-align: right;\n",
       "    }\n",
       "</style>\n",
       "<table border=\"1\" class=\"dataframe\">\n",
       "  <thead>\n",
       "    <tr style=\"text-align: right;\">\n",
       "      <th></th>\n",
       "      <th>name</th>\n",
       "      <th>summary</th>\n",
       "      <th>description</th>\n",
       "      <th>experiences_offered</th>\n",
       "      <th>host_id</th>\n",
       "      <th>host_name</th>\n",
       "      <th>host_since</th>\n",
       "      <th>host_location</th>\n",
       "      <th>host_response_time</th>\n",
       "      <th>host_response_rate</th>\n",
       "      <th>...</th>\n",
       "      <th>instant_bookable</th>\n",
       "      <th>is_business_travel_ready</th>\n",
       "      <th>cancellation_policy</th>\n",
       "      <th>require_guest_profile_picture</th>\n",
       "      <th>require_guest_phone_verification</th>\n",
       "      <th>calculated_host_listings_count</th>\n",
       "      <th>calculated_host_listings_count_entire_homes</th>\n",
       "      <th>calculated_host_listings_count_private_rooms</th>\n",
       "      <th>calculated_host_listings_count_shared_rooms</th>\n",
       "      <th>reviews_per_month</th>\n",
       "    </tr>\n",
       "    <tr>\n",
       "      <th>id</th>\n",
       "      <th></th>\n",
       "      <th></th>\n",
       "      <th></th>\n",
       "      <th></th>\n",
       "      <th></th>\n",
       "      <th></th>\n",
       "      <th></th>\n",
       "      <th></th>\n",
       "      <th></th>\n",
       "      <th></th>\n",
       "      <th></th>\n",
       "      <th></th>\n",
       "      <th></th>\n",
       "      <th></th>\n",
       "      <th></th>\n",
       "      <th></th>\n",
       "      <th></th>\n",
       "      <th></th>\n",
       "      <th></th>\n",
       "      <th></th>\n",
       "      <th></th>\n",
       "    </tr>\n",
       "  </thead>\n",
       "  <tbody>\n",
       "    <tr>\n",
       "      <th>2060</th>\n",
       "      <td>Modern NYC</td>\n",
       "      <td>NaN</td>\n",
       "      <td>Lovely, spacious, sunny 1 BR apartment in 6th ...</td>\n",
       "      <td>none</td>\n",
       "      <td>2259</td>\n",
       "      <td>Jenny</td>\n",
       "      <td>2008-08-18</td>\n",
       "      <td>US</td>\n",
       "      <td>a few days or more</td>\n",
       "      <td>22%</td>\n",
       "      <td>...</td>\n",
       "      <td>f</td>\n",
       "      <td>f</td>\n",
       "      <td>flexible</td>\n",
       "      <td>f</td>\n",
       "      <td>f</td>\n",
       "      <td>1</td>\n",
       "      <td>0</td>\n",
       "      <td>1</td>\n",
       "      <td>0</td>\n",
       "      <td>0.01</td>\n",
       "    </tr>\n",
       "    <tr>\n",
       "      <th>2595</th>\n",
       "      <td>Skylit Midtown Castle</td>\n",
       "      <td>Beautiful, spacious skylit studio in the heart...</td>\n",
       "      <td>Beautiful, spacious skylit studio in the heart...</td>\n",
       "      <td>none</td>\n",
       "      <td>2845</td>\n",
       "      <td>Jennifer</td>\n",
       "      <td>2008-09-09</td>\n",
       "      <td>New York, New York, United States</td>\n",
       "      <td>within a few hours</td>\n",
       "      <td>93%</td>\n",
       "      <td>...</td>\n",
       "      <td>f</td>\n",
       "      <td>f</td>\n",
       "      <td>strict_14_with_grace_period</td>\n",
       "      <td>t</td>\n",
       "      <td>t</td>\n",
       "      <td>2</td>\n",
       "      <td>2</td>\n",
       "      <td>0</td>\n",
       "      <td>0</td>\n",
       "      <td>0.38</td>\n",
       "    </tr>\n",
       "    <tr>\n",
       "      <th>3831</th>\n",
       "      <td>Cozy Entire Floor of Brownstone</td>\n",
       "      <td>Urban retreat: enjoy 500 s.f. floor in 1899 br...</td>\n",
       "      <td>Urban retreat: enjoy 500 s.f. floor in 1899 br...</td>\n",
       "      <td>none</td>\n",
       "      <td>4869</td>\n",
       "      <td>LisaRoxanne</td>\n",
       "      <td>2008-12-07</td>\n",
       "      <td>New York, New York, United States</td>\n",
       "      <td>within an hour</td>\n",
       "      <td>89%</td>\n",
       "      <td>...</td>\n",
       "      <td>f</td>\n",
       "      <td>f</td>\n",
       "      <td>moderate</td>\n",
       "      <td>f</td>\n",
       "      <td>f</td>\n",
       "      <td>1</td>\n",
       "      <td>1</td>\n",
       "      <td>0</td>\n",
       "      <td>0</td>\n",
       "      <td>4.68</td>\n",
       "    </tr>\n",
       "    <tr>\n",
       "      <th>5099</th>\n",
       "      <td>Large Cozy 1 BR Apartment In Midtown East</td>\n",
       "      <td>My large 1 bedroom apartment has a true New Yo...</td>\n",
       "      <td>My large 1 bedroom apartment has a true New Yo...</td>\n",
       "      <td>none</td>\n",
       "      <td>7322</td>\n",
       "      <td>Chris</td>\n",
       "      <td>2009-02-02</td>\n",
       "      <td>New York, New York, United States</td>\n",
       "      <td>NaN</td>\n",
       "      <td>NaN</td>\n",
       "      <td>...</td>\n",
       "      <td>f</td>\n",
       "      <td>f</td>\n",
       "      <td>moderate</td>\n",
       "      <td>t</td>\n",
       "      <td>t</td>\n",
       "      <td>1</td>\n",
       "      <td>1</td>\n",
       "      <td>0</td>\n",
       "      <td>0</td>\n",
       "      <td>0.58</td>\n",
       "    </tr>\n",
       "    <tr>\n",
       "      <th>5121</th>\n",
       "      <td>BlissArtsSpace!</td>\n",
       "      <td>NaN</td>\n",
       "      <td>HELLO EVERYONE AND THANKS FOR VISITING BLISS A...</td>\n",
       "      <td>none</td>\n",
       "      <td>7356</td>\n",
       "      <td>Garon</td>\n",
       "      <td>2009-02-03</td>\n",
       "      <td>New York, New York, United States</td>\n",
       "      <td>NaN</td>\n",
       "      <td>NaN</td>\n",
       "      <td>...</td>\n",
       "      <td>f</td>\n",
       "      <td>f</td>\n",
       "      <td>strict_14_with_grace_period</td>\n",
       "      <td>f</td>\n",
       "      <td>f</td>\n",
       "      <td>1</td>\n",
       "      <td>0</td>\n",
       "      <td>1</td>\n",
       "      <td>0</td>\n",
       "      <td>0.38</td>\n",
       "    </tr>\n",
       "  </tbody>\n",
       "</table>\n",
       "<p>5 rows × 80 columns</p>\n",
       "</div>"
      ],
      "text/plain": [
       "                                           name  \\\n",
       "id                                                \n",
       "2060                                 Modern NYC   \n",
       "2595                      Skylit Midtown Castle   \n",
       "3831            Cozy Entire Floor of Brownstone   \n",
       "5099  Large Cozy 1 BR Apartment In Midtown East   \n",
       "5121                            BlissArtsSpace!   \n",
       "\n",
       "                                                summary  \\\n",
       "id                                                        \n",
       "2060                                                NaN   \n",
       "2595  Beautiful, spacious skylit studio in the heart...   \n",
       "3831  Urban retreat: enjoy 500 s.f. floor in 1899 br...   \n",
       "5099  My large 1 bedroom apartment has a true New Yo...   \n",
       "5121                                                NaN   \n",
       "\n",
       "                                            description experiences_offered  \\\n",
       "id                                                                            \n",
       "2060  Lovely, spacious, sunny 1 BR apartment in 6th ...                none   \n",
       "2595  Beautiful, spacious skylit studio in the heart...                none   \n",
       "3831  Urban retreat: enjoy 500 s.f. floor in 1899 br...                none   \n",
       "5099  My large 1 bedroom apartment has a true New Yo...                none   \n",
       "5121  HELLO EVERYONE AND THANKS FOR VISITING BLISS A...                none   \n",
       "\n",
       "      host_id    host_name  host_since                      host_location  \\\n",
       "id                                                                          \n",
       "2060     2259        Jenny  2008-08-18                                 US   \n",
       "2595     2845     Jennifer  2008-09-09  New York, New York, United States   \n",
       "3831     4869  LisaRoxanne  2008-12-07  New York, New York, United States   \n",
       "5099     7322        Chris  2009-02-02  New York, New York, United States   \n",
       "5121     7356        Garon  2009-02-03  New York, New York, United States   \n",
       "\n",
       "      host_response_time host_response_rate  ... instant_bookable  \\\n",
       "id                                           ...                    \n",
       "2060  a few days or more                22%  ...                f   \n",
       "2595  within a few hours                93%  ...                f   \n",
       "3831      within an hour                89%  ...                f   \n",
       "5099                 NaN                NaN  ...                f   \n",
       "5121                 NaN                NaN  ...                f   \n",
       "\n",
       "     is_business_travel_ready          cancellation_policy  \\\n",
       "id                                                           \n",
       "2060                        f                     flexible   \n",
       "2595                        f  strict_14_with_grace_period   \n",
       "3831                        f                     moderate   \n",
       "5099                        f                     moderate   \n",
       "5121                        f  strict_14_with_grace_period   \n",
       "\n",
       "      require_guest_profile_picture  require_guest_phone_verification  \\\n",
       "id                                                                      \n",
       "2060                              f                                 f   \n",
       "2595                              t                                 t   \n",
       "3831                              f                                 f   \n",
       "5099                              t                                 t   \n",
       "5121                              f                                 f   \n",
       "\n",
       "     calculated_host_listings_count  \\\n",
       "id                                    \n",
       "2060                              1   \n",
       "2595                              2   \n",
       "3831                              1   \n",
       "5099                              1   \n",
       "5121                              1   \n",
       "\n",
       "     calculated_host_listings_count_entire_homes  \\\n",
       "id                                                 \n",
       "2060                                           0   \n",
       "2595                                           2   \n",
       "3831                                           1   \n",
       "5099                                           1   \n",
       "5121                                           0   \n",
       "\n",
       "     calculated_host_listings_count_private_rooms  \\\n",
       "id                                                  \n",
       "2060                                            1   \n",
       "2595                                            0   \n",
       "3831                                            0   \n",
       "5099                                            0   \n",
       "5121                                            1   \n",
       "\n",
       "     calculated_host_listings_count_shared_rooms reviews_per_month  \n",
       "id                                                                  \n",
       "2060                                           0              0.01  \n",
       "2595                                           0              0.38  \n",
       "3831                                           0              4.68  \n",
       "5099                                           0              0.58  \n",
       "5121                                           0              0.38  \n",
       "\n",
       "[5 rows x 80 columns]"
      ]
     },
     "execution_count": 15,
     "metadata": {},
     "output_type": "execute_result"
    }
   ],
   "source": [
    "listings.head()"
   ]
  },
  {
   "cell_type": "markdown",
   "metadata": {},
   "source": [
    "It's your turn to explore the data! If you're stumped on what tools to use check out these pandas methods:\n",
    "\n",
    "- [histogram code (hist)](https://pandas.pydata.org/pandas-docs/stable/reference/api/pandas.DataFrame.hist.html)\n",
    "- [describe](https://pandas.pydata.org/pandas-docs/stable/reference/api/pandas.DataFrame.describe.html)\n",
    "- [info](https://pandas.pydata.org/pandas-docs/stable/reference/api/pandas.DataFrame.info.html)\n",
    "- Some data is in strings. How do you deal with those? [Maybe try some string methods.](https://pandas.pydata.org/pandas-docs/stable/user_guide/text.html#splitting-and-replacing-strings)"
   ]
  },
  {
   "cell_type": "code",
   "execution_count": 16,
   "metadata": {},
   "outputs": [],
   "source": [
    "# Write some code and look at the data!"
   ]
  },
  {
   "cell_type": "markdown",
   "metadata": {},
   "source": [
    "---\n",
    "\n",
    "## Feature Engineering\n",
    "\n",
    "You've taken a look at the data. Now we've got to focus on getting data ready for modeling.\n",
    "\n",
    "### The Plan\n",
    "\n",
    "- Spend 10 minutes thinking about some feature ideas\n",
    "- Spend 10 minutes to check-in with your classmates to hear about what they have discovered\n",
    "- Spend 25 minutes working on building a feature vector\n",
    "\n",
    "Remember you're trying to predict is a listing has a `high_price`.\n",
    "\n",
    "Consider these questions\n",
    "- What should you do about null values?\n",
    "- Which columns do you think will best predict `high_price`?\n",
    "- How are you going to analyze your features?"
   ]
  },
  {
   "cell_type": "code",
   "execution_count": 24,
   "metadata": {},
   "outputs": [
    {
     "name": "stdout",
     "output_type": "stream",
     "text": [
      "(50378, 2)\n"
     ]
    },
    {
     "data": {
      "text/html": [
       "<div>\n",
       "<style scoped>\n",
       "    .dataframe tbody tr th:only-of-type {\n",
       "        vertical-align: middle;\n",
       "    }\n",
       "\n",
       "    .dataframe tbody tr th {\n",
       "        vertical-align: top;\n",
       "    }\n",
       "\n",
       "    .dataframe thead th {\n",
       "        text-align: right;\n",
       "    }\n",
       "</style>\n",
       "<table border=\"1\" class=\"dataframe\">\n",
       "  <thead>\n",
       "    <tr style=\"text-align: right;\">\n",
       "      <th></th>\n",
       "      <th>target</th>\n",
       "      <th>num_beds</th>\n",
       "    </tr>\n",
       "    <tr>\n",
       "      <th>id</th>\n",
       "      <th></th>\n",
       "      <th></th>\n",
       "    </tr>\n",
       "  </thead>\n",
       "  <tbody>\n",
       "    <tr>\n",
       "      <th>2060</th>\n",
       "      <td>0</td>\n",
       "      <td>2.0</td>\n",
       "    </tr>\n",
       "    <tr>\n",
       "      <th>2595</th>\n",
       "      <td>1</td>\n",
       "      <td>1.0</td>\n",
       "    </tr>\n",
       "    <tr>\n",
       "      <th>3831</th>\n",
       "      <td>0</td>\n",
       "      <td>4.0</td>\n",
       "    </tr>\n",
       "    <tr>\n",
       "      <th>5099</th>\n",
       "      <td>1</td>\n",
       "      <td>1.0</td>\n",
       "    </tr>\n",
       "    <tr>\n",
       "      <th>5121</th>\n",
       "      <td>0</td>\n",
       "      <td>1.0</td>\n",
       "    </tr>\n",
       "  </tbody>\n",
       "</table>\n",
       "</div>"
      ],
      "text/plain": [
       "      target  num_beds\n",
       "id                    \n",
       "2060       0       2.0\n",
       "2595       1       1.0\n",
       "3831       0       4.0\n",
       "5099       1       1.0\n",
       "5121       0       1.0"
      ]
     },
     "execution_count": 24,
     "metadata": {},
     "output_type": "execute_result"
    }
   ],
   "source": [
    "# Here is some starter code to develop features\n",
    "\n",
    "features = pd.DataFrame()\n",
    "\n",
    "# Attach the target value for ease of analysis\n",
    "features['target'] = prices['high_price'].astype(int)\n",
    "\n",
    "# Here is an example feature\n",
    "features['num_beds'] = listings['beds'].fillna(listings['beds'].median())\n",
    "\n",
    "print(features.shape)\n",
    "features.head()"
   ]
  },
  {
   "cell_type": "code",
   "execution_count": 25,
   "metadata": {},
   "outputs": [
    {
     "data": {
      "image/png": "[encoded data removed]",
      "text/plain": [
       "<Figure size 432x288 with 1 Axes>"
      ]
     },
     "metadata": {
      "needs_background": "light"
     },
     "output_type": "display_data"
    }
   ],
   "source": [
    "# Here is some code to help you analyze your features\n",
    "\n",
    "def plot_feature_distributions(features, feature_col, target_col='target'):\n",
    "    is_high_price = features[target_col] == 1\n",
    "    \n",
    "    fig, ax = plt.subplots()\n",
    "    sns.distplot(features[is_high_price][feature_col], ax=ax, label='high $')\n",
    "    sns.distplot(features[~is_high_price][feature_col], ax=ax, label='low $')\n",
    "    ax.legend()\n",
    "    ax.set_title(f'Distribution of {feature_col}')\n",
    "    fig.tight_layout()\n",
    "    \n",
    "plot_feature_distributions(features, 'num_beds')"
   ]
  },
  {
   "cell_type": "markdown",
   "metadata": {},
   "source": [
    "It is your turn to write some more features!\n",
    "\n",
    "Take a look at some of these useful pandas methods\n",
    "- [aggregation](https://pandas.pydata.org/pandas-docs/stable/reference/api/pandas.DataFrame.agg.html)\n",
    "- [groupby for aggregation](https://pandas.pydata.org/pandas-docs/stable/reference/api/pandas.DataFrame.groupby.html)\n",
    "- [string data extraction](https://pandas.pydata.org/pandas-docs/stable/user_guide/text.html#extracting-substrings)\n",
    "- [histogram code (hist)](https://pandas.pydata.org/pandas-docs/stable/reference/api/pandas.DataFrame.hist.html)\n",
    "- [correlation calculation](https://pandas.pydata.org/pandas-docs/stable/reference/api/pandas.DataFrame.corr.html)"
   ]
  },
  {
   "cell_type": "code",
   "execution_count": 26,
   "metadata": {},
   "outputs": [],
   "source": [
    "# Write some more features!"
   ]
  },
  {
   "cell_type": "markdown",
   "metadata": {},
   "source": [
    "#### A Brief Aside on Text Features...\n",
    "\n",
    "- Try out some regex! https://regex101.com/\n",
    "- [Take a look at TFIDF](https://scikit-learn.org/stable/modules/generated/sklearn.feature_extraction.text.TfidfVectorizer.html)\n",
    "  - Pay attention to stop words, \n",
    "  - [We can also use a different tokenizer...](https://scikit-learn.org/stable/modules/feature_extraction.html#customizing-the-vectorizer-classes)\n",
    "    - Lematization helps to find the lemma (root) word we're dealing with. Ex studying --> study"
   ]
  },
  {
   "cell_type": "markdown",
   "metadata": {},
   "source": [
    "---\n",
    "\n",
    "## Modeling and Model Evaluation\n",
    "\n",
    "Now you've written some features. Most of the modeling code has been written but feel free to modify things!\n",
    "\n",
    "### The Plan\n",
    "\n",
    "- Spend 5 minutes to run the following code and see what happens\n",
    "- Spend 10 minutes to check-in with your classmates to hear about what they have discovered\n",
    "\n",
    "Consider these questions\n",
    "- Is the model fitting well?\n",
    "- Are there any other types of models you'd like to try?"
   ]
  },
  {
   "cell_type": "code",
   "execution_count": 27,
   "metadata": {},
   "outputs": [
    {
     "data": {
      "text/plain": [
       "((40302, 1), (10076, 1), (40302,), (10076,))"
      ]
     },
     "execution_count": 27,
     "metadata": {},
     "output_type": "execute_result"
    }
   ],
   "source": [
    "# Split up the data for training\n",
    "from sklearn.model_selection import train_test_split\n",
    "\n",
    "y = features['target']\n",
    "X = features.drop(columns=['target'])\n",
    "\n",
    "X_train, X_test, y_train, y_test = train_test_split(X, y, test_size=0.20, random_state=42)\n",
    "\n",
    "X_train.shape, X_test.shape, y_train.shape, y_test.shape"
   ]
  },
  {
   "cell_type": "code",
   "execution_count": 28,
   "metadata": {},
   "outputs": [
    {
     "data": {
      "text/plain": [
       "(0.4983871768150464, 0.49880905121079794)"
      ]
     },
     "execution_count": 28,
     "metadata": {},
     "output_type": "execute_result"
    }
   ],
   "source": [
    "# Check that test and train have a similar proportion of classes\n",
    "y_train.mean(), y_test.mean()"
   ]
  },
  {
   "cell_type": "code",
   "execution_count": 29,
   "metadata": {},
   "outputs": [
    {
     "name": "stdout",
     "output_type": "stream",
     "text": [
      "Fitting 5 folds for each of 15 candidates, totalling 75 fits\n"
     ]
    },
    {
     "name": "stderr",
     "output_type": "stream",
     "text": [
      "[Parallel(n_jobs=-1)]: Using backend LokyBackend with 4 concurrent workers.\n",
      "[Parallel(n_jobs=-1)]: Done  42 tasks      | elapsed:   33.6s\n",
      "[Parallel(n_jobs=-1)]: Done  75 out of  75 | elapsed:   55.4s finished\n"
     ]
    },
    {
     "data": {
      "text/plain": [
       "{'n_estimators': 408,\n",
       " 'min_samples_split': 0.00636326530612245,\n",
       " 'max_samples': 0.875,\n",
       " 'max_depth': 10,\n",
       " 'criterion': 'gini'}"
      ]
     },
     "execution_count": 29,
     "metadata": {},
     "output_type": "execute_result"
    }
   ],
   "source": [
    "from sklearn.ensemble import RandomForestClassifier\n",
    "from sklearn.model_selection import GridSearchCV, RandomizedSearchCV\n",
    "import numpy as np\n",
    "\n",
    "# Documentation: https://scikit-learn.org/stable/modules/generated/sklearn.ensemble.RandomForestClassifier.html\n",
    "parameters = {\n",
    "    'n_estimators': np.arange(30, 500, 3),\n",
    "    'criterion': ['gini'],\n",
    "    'max_depth': [None] + np.arange(1, 30).tolist(), # None is unlimited depth\n",
    "    'min_samples_split': np.linspace(0.0001, 0.01),  # Fraction of training samples necessary to continue split\n",
    "    'max_samples': np.linspace(0.5, 1.0, 20, endpoint=False),  # % of samples to select for each tree\n",
    "}\n",
    "\n",
    "# Documentation: https://scikit-learn.org/stable/modules/generated/sklearn.model_selection.RandomizedSearchCV.html\n",
    "searcher = RandomizedSearchCV(\n",
    "    estimator=RandomForestClassifier(),\n",
    "    param_distributions=parameters,\n",
    "    n_iter=15,\n",
    "    cv=5,  # number of cross validation folds\n",
    "    random_state=42,\n",
    "    n_jobs=-1,\n",
    "    verbose=1,\n",
    ")\n",
    "search = searcher.fit(X_train, y_train)\n",
    "search.best_params_"
   ]
  },
  {
   "cell_type": "code",
   "execution_count": 30,
   "metadata": {},
   "outputs": [
    {
     "data": {
      "text/plain": [
       "RandomForestClassifier(bootstrap=True, ccp_alpha=0.0, class_weight=None,\n",
       "                       criterion='gini', max_depth=10, max_features='auto',\n",
       "                       max_leaf_nodes=None, max_samples=0.875,\n",
       "                       min_impurity_decrease=0.0, min_impurity_split=None,\n",
       "                       min_samples_leaf=1,\n",
       "                       min_samples_split=0.00636326530612245,\n",
       "                       min_weight_fraction_leaf=0.0, n_estimators=408,\n",
       "                       n_jobs=None, oob_score=False, random_state=None,\n",
       "                       verbose=0, warm_start=False)"
      ]
     },
     "execution_count": 30,
     "metadata": {},
     "output_type": "execute_result"
    }
   ],
   "source": [
    "rf_clf = search.best_estimator_\n",
    "rf_clf"
   ]
  },
  {
   "cell_type": "markdown",
   "metadata": {},
   "source": [
    "### Model Evaluation\n",
    "\n",
    "A bunch of useful methods are provided below. Just run the code!"
   ]
  },
  {
   "cell_type": "code",
   "execution_count": 31,
   "metadata": {},
   "outputs": [
    {
     "data": {
      "image/png": "[encoded data removed]",
      "text/plain": [
       "<Figure size 432x288 with 1 Axes>"
      ]
     },
     "metadata": {
      "needs_background": "light"
     },
     "output_type": "display_data"
    }
   ],
   "source": [
    "from sklearn.metrics import plot_roc_curve\n",
    "\n",
    "fig, ax = plt.subplots()\n",
    "\n",
    "plot_roc_curve(rf_clf, X_test, y_test, name='Test', ax=ax)\n",
    "plot_roc_curve(rf_clf, X_train, y_train, name='Train', ax=ax)\n",
    "\n",
    "ax.set_title('Model ROC');"
   ]
  },
  {
   "cell_type": "code",
   "execution_count": 32,
   "metadata": {},
   "outputs": [
    {
     "data": {
      "image/png": "[encoded data removed]",
      "text/plain": [
       "<Figure size 432x288 with 1 Axes>"
      ]
     },
     "metadata": {
      "needs_background": "light"
     },
     "output_type": "display_data"
    }
   ],
   "source": [
    "from sklearn.metrics import plot_precision_recall_curve\n",
    "\n",
    "fig, ax = plt.subplots()\n",
    "\n",
    "plot_precision_recall_curve(rf_clf, X_test, y_test, name='Test', ax=ax)\n",
    "plot_precision_recall_curve(rf_clf, X_train, y_train, name='Train', ax=ax)\n",
    "\n",
    "ax.set_title('Model Precision/Recall');"
   ]
  },
  {
   "cell_type": "code",
   "execution_count": 35,
   "metadata": {},
   "outputs": [
    {
     "data": {
      "image/png": "[encoded data removed]",
      "text/plain": [
       "<Figure size 432x288 with 2 Axes>"
      ]
     },
     "metadata": {
      "needs_background": "light"
     },
     "output_type": "display_data"
    }
   ],
   "source": [
    "from sklearn.metrics import plot_confusion_matrix\n",
    "\n",
    "fig, ax = plt.subplots()\n",
    "\n",
    "ax.grid(False)\n",
    "\n",
    "plot_confusion_matrix(rf_clf, X_test, y_test, ax=ax, normalize='all', display_labels=['low $', 'high $'])\n",
    "\n",
    "ax.set_title('Confusion Matrix (Test Set)');"
   ]
  },
  {
   "cell_type": "code",
   "execution_count": 36,
   "metadata": {},
   "outputs": [
    {
     "data": {
      "image/png": "[encoded data removed]",
      "text/plain": [
       "<Figure size 432x288 with 1 Axes>"
      ]
     },
     "metadata": {
      "needs_background": "light"
     },
     "output_type": "display_data"
    }
   ],
   "source": [
    "features_importance = pd.DataFrame(index=X.columns)\n",
    "features_importance['importance'] = rf_clf.feature_importances_\n",
    "features_importance.sort_values('importance', ascending=False, inplace=True)\n",
    "\n",
    "ax = features_importance.plot.bar(rot=60)\n",
    "ax.set_title('Feature Importance');"
   ]
  },
  {
   "cell_type": "code",
   "execution_count": null,
   "metadata": {},
   "outputs": [],
   "source": []
  }
 ],
 "metadata": {
  "kernelspec": {
   "display_name": "Python 3",
   "language": "python",
   "name": "python3"
  },
  "language_info": {
   "codemirror_mode": {
    "name": "ipython",
    "version": 3
   },
   "file_extension": ".py",
   "mimetype": "text/x-python",
   "name": "python",
   "nbconvert_exporter": "python",
   "pygments_lexer": "ipython3",
   "version": "3.7.6"
  }
 },
 "nbformat": 4,
 "nbformat_minor": 4
}
